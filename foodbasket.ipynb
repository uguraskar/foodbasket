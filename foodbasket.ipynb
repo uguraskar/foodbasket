{
 "metadata": {
  "language_info": {
   "codemirror_mode": {
    "name": "ipython",
    "version": 3
   },
   "file_extension": ".py",
   "mimetype": "text/x-python",
   "name": "python",
   "nbconvert_exporter": "python",
   "pygments_lexer": "ipython3",
   "version": "3.9.0"
  },
  "orig_nbformat": 2,
  "kernelspec": {
   "name": "python390jvsc74a57bd00e8f02916ce4ec57490847cc8c54c12a9dae65680be9326a3269d9b7a61d6d19",
   "display_name": "Python 3.9.0 64-bit"
  },
  "metadata": {
   "interpreter": {
    "hash": "0e8f02916ce4ec57490847cc8c54c12a9dae65680be9326a3269d9b7a61d6d19"
   }
  }
 },
 "nbformat": 4,
 "nbformat_minor": 2,
 "cells": [
  {
   "cell_type": "code",
   "execution_count": 1,
   "metadata": {},
   "outputs": [],
   "source": [
    "from dotenv import load_dotenv\n",
    "load_dotenv(\"dev.env\")\n",
    "import os\n",
    "\n",
    "db_name = os.getenv(\"db_name\")\n",
    "db_username = os.getenv(\"db_username\")\n",
    "db_password = os.getenv(\"db_password\")\n",
    "db_host = os.getenv(\"db_host\")\n",
    "db_port = os.getenv(\"db_port\")\n",
    "website = os.getenv(\"website\")\n",
    "city_link = os.getenv(\"city_link\")"
   ]
  },
  {
   "cell_type": "code",
   "execution_count": 2,
   "metadata": {},
   "outputs": [],
   "source": [
    "import psycopg2\n",
    "import time\n",
    "import math\n",
    "import numpy as np\n",
    "import os.path\n",
    "\n",
    "conn_string = 'host={pghost} port={pgport} dbname={pgdatabase} user={pguser} password={pgpassword}'.format(pgdatabase=db_name,pguser=db_username,pgpassword=db_password,pghost=db_host,pgport=db_port)\n",
    "conn=psycopg2.connect(conn_string)\n",
    "cur=conn.cursor()\n",
    "\n",
    "def check_if_table_exists(schema,table):\n",
    "    cur.execute(\"select exists(select * from information_schema.tables where table_schema='{schema}' AND table_name='{table}')\".format(schema=schema, table=table))\n",
    "    return cur.fetchone()[0]\n",
    "\n",
    "def check_if_index_exists(index):\n",
    "    cur.execute(\"SELECT EXISTS(SELECT * FROM PG_CLASS WHERE relname = '{index}')\".format(index=index))\n",
    "    return cur.fetchone()[0]\n",
    "\n",
    "def check_if_file_exists(filename):\n",
    "    return os.path.isfile(filename)\n",
    "\n",
    "def execute_mogrify(conn, df, schema, table):\n",
    "    tuples = [tuple(x) for x in df.to_numpy()]\n",
    "    cols = '\"'+'\",\"'.join(list(df.columns))+'\"'\n",
    "    cursor = conn.cursor()    \n",
    "    try:\n",
    "        for tup in tuples:\n",
    "            query  = \"\"\"INSERT INTO \"{schema}\".\"{table}\"({cols}) VALUES ({values})\"\"\".format(schema=schema,table=table, cols=cols, values=\",\".join(map(str,tup)))\n",
    "            cursor.execute(query)\n",
    "            conn.commit()\n",
    "    except (Exception, psycopg2.DatabaseError) as error:\n",
    "        print(\"Error: %s\" % error)\n",
    "        conn.rollback()\n",
    "        cursor.close()\n",
    "        return 1\n",
    "    cursor.close()\n",
    "\n",
    "def df_column_conversation(df, column_name, type):\n",
    "    if(type == 'timestamp'):\n",
    "        df[column_name] = df[column_name].apply(lambda x: f\"'{x}'::timestamp\")\n",
    "    if(type == 'text'):\n",
    "        df[column_name] = df[column_name].apply(lambda x: f\"'{x}'\")\n",
    "    if(type == 'date'):\n",
    "        df[column_name] = df[column_name].apply(lambda x: f\"'{x}'::date\")\n",
    "    if(type == 'numeric'):\n",
    "        df[column_name] = df[column_name].str.replace(',','.')\n",
    "    if(type == 'integer'):\n",
    "        df[column_name] = df[column_name].str.replace(',','.').apply(float).apply(int)"
   ]
  },
  {
   "cell_type": "code",
   "execution_count": 3,
   "metadata": {},
   "outputs": [
    {
     "output_type": "stream",
     "name": "stdout",
     "text": [
      "https://www.yemeksepeti.com/pizza-dante-sisli-ergenekon-mah-pangalti-istanbul\n",
      "</span> </b> </div> </div> </div>, <div class=\"listBody\"> <div id=\"ys-approved-text\"> <span class=\"ys-icons ys-icons-Standard-icons-info info-icon\"></span> <span class=\"approve-text\">Bu restoranın <strong>adres</strong> ve <strong>onaylanmış</strong> telefon bilgileri Yemeksepeti'nde bulunmaktadır.</span> </div> </div>]\n"
     ]
    }
   ],
   "source": [
    "from bs4 import BeautifulSoup\n",
    "import requests\n",
    "import pandas as pd\n",
    "\n",
    "city_req = requests.get(city_link)\n",
    "city_soup = BeautifulSoup(city_req.content,\"lxml\")\n",
    "for restaurant in city_soup.find(name=\"div\", attrs={\"class\":\"ys-reslist\"}).find_all(name=\"a\", attrs={\"class\":\"restaurantName\"}):\n",
    "    restaurant_name = restaurant.span.text\n",
    "    restaurant_sublink = restaurant.get(\"href\")\n",
    "    restaurant_link = website+restaurant_sublink\n",
    "    print(restaurant_link)\n",
    "    restaurant_req = requests.get(restaurant_link)\n",
    "    restaurant_soup = BeautifulSoup(restaurant_req.content,\"lxml\")\n",
    "    for category_soup in restaurant_soup.select(\"div[class*=restaurantDetailBox]\"):\n",
    "        try:\n",
    "            category_name = category_soup.find(name=\"b\").text\n",
    "        except:\n",
    "            continue\n",
    "    print(restaurant_soup.find_all(name=\"div\", attrs={\"class\":\"listBody\"}))\n",
    "    t1 = restaurant_soup.find_all(name=\"div\", attrs={\"class\":\"listBody\"})\n",
    "    break  "
   ]
  },
  {
   "cell_type": "code",
   "execution_count": 4,
   "metadata": {},
   "outputs": [
    {
     "output_type": "execute_result",
     "data": {
      "text/plain": [
       "'https://www.yemeksepeti.com/pizza-dante-sisli-ergenekon-mah-pangalti-istanbul'"
      ]
     },
     "metadata": {},
     "execution_count": 4
    }
   ],
   "source": [
    "restaurant_link"
   ]
  },
  {
   "cell_type": "code",
   "execution_count": 5,
   "metadata": {},
   "outputs": [
    {
     "output_type": "execute_result",
     "data": {
      "text/plain": [
       "'94,00 TL'"
      ]
     },
     "metadata": {},
     "execution_count": 5
    }
   ],
   "source": [
    "product_name = t1[0].find(name=\"a\", attrs={\"class\":\"getProductDetail\"}).text\n",
    "product_desc = t1[0].find(name=\"div\", attrs={\"class\":\"product-desc\"}).text\n",
    "#product_price = t1[0].select(\"div[class=product-price]\")[0].select(\"span[class=price]\")[0].text\n",
    "product_price = t1[0].select(\"div[class*=product-price]\")[0].find(name=\"span\").text\n",
    "try:\n",
    "    #discount_price = t1[0].select(\"div[class=product-price discounted]\")[0].select(\"span[class=price]\")[0].text\n",
    "    discount_price = t1[0].select(\"div[class*=product-price]\")[0].findAll(name=\"span\", attrs={\"class\":\"price\"})\n",
    "except:\n",
    "    discount_price = \"\"\n",
    "#t1[0]\n",
    "product_price"
   ]
  },
  {
   "cell_type": "code",
   "execution_count": 6,
   "metadata": {},
   "outputs": [
    {
     "output_type": "stream",
     "name": "stdout",
     "text": [
      "<a class=\"getProductDetail\" data-catalog-name=\"TR_ISTANBUL\" data-category-name=\"cdc0d69d-4e9d-445e-8e62-d8d500e93888\" data-product-id=\"559e852f-4256-45c5-9c98-c300ef06ccc4\" data-top-sold-product=\"true\" href=\"javascript:void(0);\"> <i class=\"ys-icons ys-icons-foto\" data-imagepath=\"//cdn.yemeksepeti.com/ProductImages/TR_ISTANBUL/pizzadante/pizzamista32cm._20210412193515_big.jpg\" data-productname=\"Pizza Mista (32 cm.)\"></i> </a>\n<a class=\"getProductDetail\" data-catalog-name=\"TR_ISTANBUL\" data-category-name=\"cdc0d69d-4e9d-445e-8e62-d8d500e93888\" data-product-id=\"DC93D4A3-F538-400F-A8D8-6E7F1DE13064\" data-top-sold-product=\"false\" href=\"javascript:void(0);\">Seçilmiş Menü (Pizza Mediterraneo (25 cm.))</a>\n<a class=\"getProductDetail\" data-catalog-name=\"TR_ISTANBUL\" data-category-name=\"cdc0d69d-4e9d-445e-8e62-d8d500e93888\" data-product-id=\"4F9A1222-2174-4794-85BE-78B864137B58\" data-top-sold-product=\"false\" href=\"javascript:void(0);\">Vodafone Menüsü (Pizza Refanzine (32 cm.))</a>\n<a class=\"getProductDetail\" data-catalog-name=\"TR_ISTANBUL\" data-category-name=\"cdc0d69d-4e9d-445e-8e62-d8d500e93888\" data-product-id=\"757058c4-a870-4021-9210-26b468ec4a11\" data-top-sold-product=\"false\" href=\"javascript:void(0);\"> <i class=\"ys-icons ys-icons-foto\" data-imagepath=\"//cdn.yemeksepeti.com/ProductImages/TR_ISTANBUL/pizzadante/margheritapizza25cm._20210412194206_big.jpg\" data-productname=\"Margherita Pizza (25 cm.)\"></i> </a>\n<a class=\"getProductDetail\" data-catalog-name=\"TR_ISTANBUL\" data-category-name=\"cdc0d69d-4e9d-445e-8e62-d8d500e93888\" data-product-id=\"e377c5de-94f1-496b-8bf3-66b9d1d02f6c\" data-top-sold-product=\"false\" href=\"javascript:void(0);\"> <i class=\"ys-icons ys-icons-foto\" data-imagepath=\"//cdn.yemeksepeti.com/ProductImages/TR_ISTANBUL/pizzadante/margheritapizza32cm._20210412193638_big.jpg\" data-productname=\"Margherita Pizza (32 cm.)\"></i> </a>\n<a class=\"getProductDetail\" data-catalog-name=\"TR_ISTANBUL\" data-category-name=\"cdc0d69d-4e9d-445e-8e62-d8d500e93888\" data-product-id=\"b6a5043d-7391-49b0-b57d-1b1def5f1e7f\" data-top-sold-product=\"false\" href=\"javascript:void(0);\"> <i class=\"ys-icons ys-icons-foto\" data-imagepath=\"//cdn.yemeksepeti.com/ProductImages/TR_ISTANBUL/pizzadante/pizzapepperoni25cm._20210412194104_big.jpg\" data-productname=\"Pizza Pepperoni (25 cm.)\"></i> </a>\n<a class=\"getProductDetail\" data-catalog-name=\"TR_ISTANBUL\" data-category-name=\"cdc0d69d-4e9d-445e-8e62-d8d500e93888\" data-product-id=\"8583c4d0-96e9-4907-a2a7-82bc4a2fa4d3\" data-top-sold-product=\"false\" href=\"javascript:void(0);\"> <i class=\"ys-icons ys-icons-foto\" data-imagepath=\"//cdn.yemeksepeti.com/ProductImages/TR_ISTANBUL/pizzadante/pizzapepperoni32cm._20210412193527_big.jpg\" data-productname=\"Pizza Pepperoni (32 cm.)\"></i> </a>\n<a class=\"getProductDetail\" data-catalog-name=\"TR_ISTANBUL\" data-category-name=\"cdc0d69d-4e9d-445e-8e62-d8d500e93888\" data-product-id=\"1d17aa32-d277-4739-9315-11dfc2d047d0\" data-top-sold-product=\"false\" href=\"javascript:void(0);\">Caprese</a>\n<a class=\"getProductDetail\" data-catalog-name=\"TR_ISTANBUL\" data-category-name=\"cdc0d69d-4e9d-445e-8e62-d8d500e93888\" data-product-id=\"e9dd9acd-59b7-4cdf-a24d-fb35d8cc043a\" data-top-sold-product=\"false\" href=\"javascript:void(0);\">Ege Salata</a>\n<a class=\"getProductDetail\" data-catalog-name=\"TR_ISTANBUL\" data-category-name=\"cdc0d69d-4e9d-445e-8e62-d8d500e93888\" data-product-id=\"fd3d52c9-3971-420f-a3c5-1d7f906540c9\" data-top-sold-product=\"false\" href=\"javascript:void(0);\">Çikolatalı Sufle</a>\n<a class=\"getProductDetail\" data-catalog-name=\"TR_ISTANBUL\" data-category-name=\"cdc0d69d-4e9d-445e-8e62-d8d500e93888\" data-product-id=\"738033ca-9d89-47fc-bc49-81465c4c2c23\" data-top-sold-product=\"false\" href=\"javascript:void(0);\"> <i class=\"ys-icons ys-icons-foto\" data-imagepath=\"//cdn.yemeksepeti.com/ProductImages/icecek/cocacola33cl_big.jpg\" data-productname=\"Coca-Cola (33 cl.)\"></i> </a>\n<a class=\"getProductDetail\" data-catalog-name=\"TR_ISTANBUL\" data-category-name=\"cdc0d69d-4e9d-445e-8e62-d8d500e93888\" data-product-id=\"ec723a81-039e-4d1f-9eb4-82582a73ca5c\" data-top-sold-product=\"false\" href=\"javascript:void(0);\">Poşet</a>\n"
     ]
    }
   ],
   "source": [
    "for category_soup in restaurant_soup.select(\"div[class*=restaurantDetailBox]\"):\n",
    "    #try:\n",
    "    for product_soup in category_soup.find(name=\"div\", attrs={\"class\":\"listBody\"}).findAll(name=\"li\"):\n",
    "        print(product_soup.findAll(name=\"div\", attrs={\"class\":\"product-info\"})[0].find(name=\"a\", attrs={\"class\":\"getProductDetail\"}))\n",
    "        #print(product_soup)\n",
    "        break\n",
    "    #except:\n",
    "        #continue"
   ]
  },
  {
   "cell_type": "code",
   "execution_count": null,
   "metadata": {},
   "outputs": [],
   "source": []
  }
 ]
}